{
 "cells": [
  {
   "cell_type": "code",
   "execution_count": 2,
   "metadata": {},
   "outputs": [
    {
     "data": {
      "text/html": [
       "<div>\n",
       "<style scoped>\n",
       "    .dataframe tbody tr th:only-of-type {\n",
       "        vertical-align: middle;\n",
       "    }\n",
       "\n",
       "    .dataframe tbody tr th {\n",
       "        vertical-align: top;\n",
       "    }\n",
       "\n",
       "    .dataframe thead th {\n",
       "        text-align: right;\n",
       "    }\n",
       "</style>\n",
       "<table border=\"1\" class=\"dataframe\">\n",
       "  <thead>\n",
       "    <tr style=\"text-align: right;\">\n",
       "      <th></th>\n",
       "      <th>age</th>\n",
       "      <th>country</th>\n",
       "      <th>gender</th>\n",
       "    </tr>\n",
       "  </thead>\n",
       "  <tbody>\n",
       "    <tr>\n",
       "      <th>0</th>\n",
       "      <td>30.0</td>\n",
       "      <td>AT</td>\n",
       "      <td>n</td>\n",
       "    </tr>\n",
       "    <tr>\n",
       "      <th>1</th>\n",
       "      <td>35.0</td>\n",
       "      <td>US</td>\n",
       "      <td>m</td>\n",
       "    </tr>\n",
       "    <tr>\n",
       "      <th>2</th>\n",
       "      <td>35.0</td>\n",
       "      <td>UK</td>\n",
       "      <td>m</td>\n",
       "    </tr>\n",
       "    <tr>\n",
       "      <th>3</th>\n",
       "      <td>40.0</td>\n",
       "      <td>DK</td>\n",
       "      <td>n</td>\n",
       "    </tr>\n",
       "    <tr>\n",
       "      <th>4</th>\n",
       "      <td>NaN</td>\n",
       "      <td>SE</td>\n",
       "      <td>n</td>\n",
       "    </tr>\n",
       "    <tr>\n",
       "      <th>5</th>\n",
       "      <td>34.0</td>\n",
       "      <td>FR</td>\n",
       "      <td>m</td>\n",
       "    </tr>\n",
       "    <tr>\n",
       "      <th>6</th>\n",
       "      <td>NaN</td>\n",
       "      <td>NaN</td>\n",
       "      <td>n</td>\n",
       "    </tr>\n",
       "    <tr>\n",
       "      <th>7</th>\n",
       "      <td>NaN</td>\n",
       "      <td>DE</td>\n",
       "      <td>f</td>\n",
       "    </tr>\n",
       "    <tr>\n",
       "      <th>8</th>\n",
       "      <td>31.0</td>\n",
       "      <td>DE</td>\n",
       "      <td>m</td>\n",
       "    </tr>\n",
       "    <tr>\n",
       "      <th>9</th>\n",
       "      <td>32.0</td>\n",
       "      <td>UK</td>\n",
       "      <td>m</td>\n",
       "    </tr>\n",
       "  </tbody>\n",
       "</table>\n",
       "</div>"
      ],
      "text/plain": [
       "    age country gender\n",
       "0  30.0      AT      n\n",
       "1  35.0      US      m\n",
       "2  35.0      UK      m\n",
       "3  40.0      DK      n\n",
       "4   NaN      SE      n\n",
       "5  34.0      FR      m\n",
       "6   NaN     NaN      n\n",
       "7   NaN      DE      f\n",
       "8  31.0      DE      m\n",
       "9  32.0      UK      m"
      ]
     },
     "execution_count": 2,
     "metadata": {},
     "output_type": "execute_result"
    }
   ],
   "source": [
    "import pandas as pd\n",
    "#URL = 'https://raw.githubusercontent.com/ece143team16/ECE143---Music-History-Analysis-of-Users/master/MLHD_demographics.csv'\n",
    "demographics = pd.read_table('../Cleared Data/MLHD_demographics.csv',delimiter = '\\t')\n",
    "row,col = demographics.shape\n",
    "\n",
    "demographics.head(10)\n"
   ]
  },
  {
   "cell_type": "markdown",
   "metadata": {},
   "source": [
    "## Define function to get users of specific countries"
   ]
  },
  {
   "cell_type": "code",
   "execution_count": 3,
   "metadata": {},
   "outputs": [],
   "source": [
    "demographics[\"country and gender\"] = demographics[\"country\"].map(str) + demographics[\"gender\"]\n",
    "\n",
    "\n",
    "def count_country_gender(users):\n",
    "    '''\n",
    "    :param count_country_gender: the country and gender of requested users, typed as 2-letter country code + 'f' or 'm'\n",
    "                                    Ex: 'USm', 'USf', 'UKm', 'UKf'\n",
    "    :type count_country_gender: string\n",
    "    \n",
    "    Remember that NA means NaN, not a country code!!\n",
    "    \n",
    "    '''\n",
    "    \n",
    "    return demographics['country and gender'].str.contains(users).sum()\n"
   ]
  },
  {
   "cell_type": "code",
   "execution_count": 4,
   "metadata": {},
   "outputs": [
    {
     "name": "stdout",
     "output_type": "stream",
     "text": [
      "US males: 63420\n",
      "US females: 26820\n",
      "UK males: 28920\n",
      "UK females: 8606\n",
      "BR males: 23119\n",
      "BR females: 11040\n",
      "German males: 24533\n",
      "German females: 7623\n",
      "Netherlands males: 10455\n",
      "Netherlands females: 2923\n"
     ]
    }
   ],
   "source": [
    "m_US = count_country_gender('USm')\n",
    "print 'US males:',m_US\n",
    "f_US = count_country_gender('USf')\n",
    "print 'US females:',f_US\n",
    "\n",
    "m_UK = count_country_gender('UKm')\n",
    "print 'UK males:',m_UK\n",
    "f_UK = count_country_gender('UKf')\n",
    "print 'UK females:',f_UK\n",
    "\n",
    "m_BR = count_country_gender('BRm')\n",
    "print 'BR males:',m_BR\n",
    "f_BR = count_country_gender('BRf')\n",
    "print 'BR females:',f_BR\n",
    "\n",
    "m_DE = count_country_gender('DEm')\n",
    "print 'German males:',m_DE\n",
    "f_DE = count_country_gender('DEf')\n",
    "print 'German females:',f_DE\n",
    "\n",
    "m_NL = count_country_gender('NLm')\n",
    "print 'Netherlands males:',m_NL\n",
    "f_NL = count_country_gender('NLf')\n",
    "print 'Netherlands females:',f_NL"
   ]
  },
  {
   "cell_type": "markdown",
   "metadata": {
    "collapsed": true
   },
   "source": [
    "\n",
    "## Produce graph of country demographics"
   ]
  },
  {
   "cell_type": "code",
   "execution_count": 8,
   "metadata": {},
   "outputs": [
    {
     "data": {
      "image/png": "[encoded data removed]",
      "text/plain": [
       "<Figure size 432x288 with 1 Axes>"
      ]
     },
     "metadata": {},
     "output_type": "display_data"
    }
   ],
   "source": [
    "import numpy as np\n",
    "import matplotlib.pyplot as plt\n",
    "\n",
    "\n",
    "n_groups = 5\n",
    "\n",
    "means_men = (m_US, m_UK, m_BR, m_DE, m_NL)\n",
    "\n",
    "means_women = (f_US, f_UK, f_BR, f_DE, f_NL)\n",
    "\n",
    "fig, ax = plt.subplots()\n",
    "\n",
    "index = np.arange(n_groups)\n",
    "bar_width = 0.35\n",
    "\n",
    "opacity = 0.5\n",
    "error_config = {'ecolor': '0.3'}\n",
    "\n",
    "rects1 = plt.bar(index, means_men, bar_width,\n",
    "                 alpha=opacity,\n",
    "                 color='b',\n",
    "                 error_kw=error_config,\n",
    "                 label='Men')\n",
    "\n",
    "rects2 = plt.bar(index + bar_width, means_women, bar_width,\n",
    "                 alpha=opacity,\n",
    "                 color='r',\n",
    "                 error_kw=error_config,\n",
    "                 label='Women')\n",
    "\n",
    "#plt.xlabel('Group')\n",
    "plt.ylabel('Users')\n",
    "plt.title('Users by Most Popular Country and Gender')\n",
    "plt.xticks(index + bar_width / 2, ('US', 'UK', 'Brazil', 'Germany', 'Netherlands'))\n",
    "plt.legend()\n",
    "\n",
    "plt.tight_layout()\n",
    "plt.show()"
   ]
  },
  {
   "cell_type": "markdown",
   "metadata": {
    "collapsed": true
   },
   "source": [
    "## Sort by age demographics"
   ]
  },
  {
   "cell_type": "code",
   "execution_count": 6,
   "metadata": {},
   "outputs": [
    {
     "data": {
      "text/html": [
       "<div>\n",
       "<style scoped>\n",
       "    .dataframe tbody tr th:only-of-type {\n",
       "        vertical-align: middle;\n",
       "    }\n",
       "\n",
       "    .dataframe tbody tr th {\n",
       "        vertical-align: top;\n",
       "    }\n",
       "\n",
       "    .dataframe thead th {\n",
       "        text-align: right;\n",
       "    }\n",
       "</style>\n",
       "<table border=\"1\" class=\"dataframe\">\n",
       "  <thead>\n",
       "    <tr style=\"text-align: right;\">\n",
       "      <th></th>\n",
       "      <th>age</th>\n",
       "      <th>country</th>\n",
       "      <th>gender</th>\n",
       "      <th>country and gender</th>\n",
       "    </tr>\n",
       "    <tr>\n",
       "      <th>age</th>\n",
       "      <th></th>\n",
       "      <th></th>\n",
       "      <th></th>\n",
       "      <th></th>\n",
       "    </tr>\n",
       "  </thead>\n",
       "  <tbody>\n",
       "    <tr>\n",
       "      <th>(20, 25]</th>\n",
       "      <td>182456</td>\n",
       "      <td>174263</td>\n",
       "      <td>182456</td>\n",
       "      <td>182456</td>\n",
       "    </tr>\n",
       "    <tr>\n",
       "      <th>(25, 30]</th>\n",
       "      <td>87752</td>\n",
       "      <td>84623</td>\n",
       "      <td>87752</td>\n",
       "      <td>87752</td>\n",
       "    </tr>\n",
       "    <tr>\n",
       "      <th>(30, 40]</th>\n",
       "      <td>44556</td>\n",
       "      <td>43187</td>\n",
       "      <td>44556</td>\n",
       "      <td>44556</td>\n",
       "    </tr>\n",
       "    <tr>\n",
       "      <th>(40, 50]</th>\n",
       "      <td>8813</td>\n",
       "      <td>8554</td>\n",
       "      <td>8813</td>\n",
       "      <td>8813</td>\n",
       "    </tr>\n",
       "    <tr>\n",
       "      <th>(50, 60]</th>\n",
       "      <td>2173</td>\n",
       "      <td>2093</td>\n",
       "      <td>2173</td>\n",
       "      <td>2173</td>\n",
       "    </tr>\n",
       "    <tr>\n",
       "      <th>(60, 150]</th>\n",
       "      <td>3060</td>\n",
       "      <td>2800</td>\n",
       "      <td>3060</td>\n",
       "      <td>3060</td>\n",
       "    </tr>\n",
       "  </tbody>\n",
       "</table>\n",
       "</div>"
      ],
      "text/plain": [
       "              age  country  gender  country and gender\n",
       "age                                                   \n",
       "(20, 25]   182456   174263  182456              182456\n",
       "(25, 30]    87752    84623   87752               87752\n",
       "(30, 40]    44556    43187   44556               44556\n",
       "(40, 50]     8813     8554    8813                8813\n",
       "(50, 60]     2173     2093    2173                2173\n",
       "(60, 150]    3060     2800    3060                3060"
      ]
     },
     "execution_count": 6,
     "metadata": {},
     "output_type": "execute_result"
    }
   ],
   "source": [
    "ranges = [20,25,30,40,50,60,150]\n",
    "demographics.groupby(pd.cut(demographics[\"age\"], ranges)).count()\n",
    "\n",
    "#surprising number of 60+ having 1k more users. perhaps extra time in retirement?"
   ]
  },
  {
   "cell_type": "markdown",
   "metadata": {},
   "source": [
    "## Produce graph of age demographics"
   ]
  },
  {
   "cell_type": "code",
   "execution_count": 7,
   "metadata": {},
   "outputs": [
    {
     "data": {
      "image/png": "[encoded data removed]",
      "text/plain": [
       "<Figure size 432x288 with 1 Axes>"
      ]
     },
     "metadata": {},
     "output_type": "display_data"
    }
   ],
   "source": [
    "import numpy as np\n",
    "import matplotlib.pyplot as plt\n",
    "\n",
    "\n",
    "n_groups = 6\n",
    "\n",
    "users = (182456,87752,44556, 8813, 2173, 3060)\n",
    "\n",
    "\n",
    "\n",
    "\n",
    "index = np.arange(n_groups)\n",
    "bar_width = 0.35\n",
    "\n",
    "opacity = 0.5\n",
    "error_config = {'ecolor': '0.3'}\n",
    "\n",
    "rects1 = plt.bar(index, users, bar_width,\n",
    "                 alpha=opacity,\n",
    "                 color='g',\n",
    "                 error_kw=error_config)\n",
    "\n",
    "\n",
    "\n",
    "#plt.xlabel('Group')\n",
    "plt.ylabel('Users')\n",
    "plt.title('Users by Age')\n",
    "plt.xticks(index, ('20-25','25-30', '30-40', '40-50', '50-60', '60+'))\n",
    "plt.legend()\n",
    "\n",
    "plt.tight_layout()\n",
    "plt.show()"
   ]
  },
  {
   "cell_type": "code",
   "execution_count": null,
   "metadata": {},
   "outputs": [],
   "source": []
  },
  {
   "cell_type": "code",
   "execution_count": null,
   "metadata": {},
   "outputs": [],
   "source": []
  },
  {
   "cell_type": "code",
   "execution_count": null,
   "metadata": {},
   "outputs": [],
   "source": []
  },
  {
   "cell_type": "code",
   "execution_count": null,
   "metadata": {},
   "outputs": [],
   "source": []
  }
 ],
 "metadata": {
  "kernelspec": {
   "display_name": "Python 2",
   "language": "python",
   "name": "python2"
  },
  "language_info": {
   "codemirror_mode": {
    "name": "ipython",
    "version": 2
   },
   "file_extension": ".py",
   "mimetype": "text/x-python",
   "name": "python",
   "nbconvert_exporter": "python",
   "pygments_lexer": "ipython2",
   "version": "2.7.15"
  }
 },
 "nbformat": 4,
 "nbformat_minor": 2
}
